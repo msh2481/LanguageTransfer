{
 "cells": [
  {
   "cell_type": "code",
   "execution_count": 1,
   "metadata": {},
   "outputs": [],
   "source": [
    "import matplotlib.pyplot as plt\n",
    "import numpy as np\n",
    "import torch as t\n",
    "import torch.nn as nn\n",
    "import torch.nn.functional as F\n",
    "from beartype import beartype as typed\n",
    "from beartype.door import die_if_unbearable as assert_type\n",
    "from datasets import load_dataset\n",
    "from jaxtyping import Float, Int, Bool\n",
    "from typing import Callable\n",
    "from torch import Tensor as TT\n",
    "from transformers import AutoModelForCausalLM, AutoTokenizer\n",
    "from einops import einops as ein\n",
    "\n",
    "%load_ext autoreload\n",
    "%autoreload 2"
   ]
  },
  {
   "cell_type": "code",
   "execution_count": null,
   "metadata": {},
   "outputs": [],
   "source": [
    "model_name = \"Mlxa/brackets-nested\"\n",
    "model = AutoModelForCausalLM.from_pretrained(model_name)\n",
    "tokenizer = AutoTokenizer.from_pretrained(model_name)"
   ]
  },
  {
   "cell_type": "code",
   "execution_count": null,
   "metadata": {},
   "outputs": [],
   "source": [
    "from transformers import GPTNeoForCausalLM"
   ]
  },
  {
   "cell_type": "code",
   "execution_count": 238,
   "metadata": {},
   "outputs": [
    {
     "name": "stdout",
     "output_type": "stream",
     "text": [
      "wte:    \t0.43\n",
      "h.0.attn:    \t0.44\n",
      "h.1.attn:    \t0.17\n",
      "h.1.mlp:    \t-0.08\n",
      "h.2.mlp:    \t0.08\n",
      "h.3.mlp:    \t-0.06\n",
      "h.4.attn:    \t0.14\n",
      "h.5.attn:    \t0.10\n",
      "h.5.mlp:    \t-0.06\n",
      "h.6.attn:    \t0.28\n",
      "h.7.attn:    \t1.28\n",
      "h.7.mlp:    \t0.46\n"
     ]
    }
   ],
   "source": [
    "from utils import layer_importance_on_last_token\n",
    "\n",
    "result = layer_importance_on_last_token(\n",
    "    model,\n",
    "    tokenizer,\n",
    "    real_prompt=\"<10 <11 <12 <12 <12 12> 12> 12> 11>\",\n",
    "    corrupted_prompt=\"<10 <11 <13 <13 <13 13> 13> 13> 11>\",\n",
    ")\n",
    "for name, value in result.items():\n",
    "    if abs(value) > 0.05:\n",
    "        print(f\"{name[12:]}:    \\t{value:.2f}\")"
   ]
  },
  {
   "cell_type": "code",
   "execution_count": null,
   "metadata": {},
   "outputs": [],
   "source": [
    "from utils import show_patterns, prompt_from_template, get_losses\n",
    "from IPython.display import display\n",
    "\n",
    "# prompt = prompt_from_template(\"(((((())((()))))))\", random=True)\n",
    "# prompt = \"<1 <2 <3 3> 2> 1> <9 <11 <12 <10 <11 <12 12> 11> 10> 12> 11> 9>\"\n",
    "prompt = \"<10 <11 11> 10> <9 <11 11> 9> <8 <11 11> 8>\"\n",
    "print(get_losses(model, tokenizer, prompt))\n",
    "display(show_patterns(model, tokenizer, prompt, layer=1))"
   ]
  }
 ],
 "metadata": {
  "kernelspec": {
   "display_name": "Python 3",
   "language": "python",
   "name": "python3"
  },
  "language_info": {
   "codemirror_mode": {
    "name": "ipython",
    "version": 3
   },
   "file_extension": ".py",
   "mimetype": "text/x-python",
   "name": "python",
   "nbconvert_exporter": "python",
   "pygments_lexer": "ipython3",
   "version": "3.10.12"
  }
 },
 "nbformat": 4,
 "nbformat_minor": 2
}
