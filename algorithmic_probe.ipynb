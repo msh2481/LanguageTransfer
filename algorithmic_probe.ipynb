{
 "cells": [
  {
   "cell_type": "code",
   "execution_count": 1,
   "metadata": {},
   "outputs": [],
   "source": [
    "import matplotlib.pyplot as plt\n",
    "import numpy as np\n",
    "import torch as t\n",
    "import torch.nn as nn\n",
    "import torch.nn.functional as F\n",
    "from beartype import beartype as typed\n",
    "from beartype.door import die_if_unbearable as assert_type\n",
    "from datasets import load_dataset\n",
    "from jaxtyping import Float, Int\n",
    "from typing import Callable\n",
    "from torch import Tensor as TT\n",
    "from transformers import AutoModelForCausalLM, AutoTokenizer\n",
    "from einops import einops as ein\n",
    "\n",
    "%load_ext autoreload\n",
    "%autoreload 2"
   ]
  },
  {
   "cell_type": "markdown",
   "metadata": {},
   "source": [
    "## TODO\n",
    "- use data from the training dataset\n",
    "- for activation, linear or max of linears\n",
    "- actually tune the parameters\n",
    "- check dependencies between layers:\n",
    "    - `activation_loader` hook\n",
    "    - `input_saveer` hook\n",
    "    - now it can be done in 1 + $n_{pairs}$ runs. first save inputs to all layers. then, to check $X \\to Y$, take some fake $X$ output, and add the difference between fake and real $X$ output to $Y$ input. layers before $Y$ are not affected, for layers after $Y$ add the difference between new $Y$ output and old $Y$ output.\n",
    "    - there is a link $X \\to Y$ if such test impacts the loss (or logits in general) on a sample from training dataset."
   ]
  },
  {
   "cell_type": "markdown",
   "metadata": {},
   "source": [
    "## Model and hooks"
   ]
  },
  {
   "cell_type": "code",
   "execution_count": 2,
   "metadata": {},
   "outputs": [],
   "source": [
    "model = AutoModelForCausalLM.from_pretrained(\"Mlxa/brackets-nested\")\n",
    "tokenizer = AutoTokenizer.from_pretrained(\"Mlxa/brackets-nested\")"
   ]
  },
  {
   "cell_type": "code",
   "execution_count": 3,
   "metadata": {},
   "outputs": [],
   "source": [
    "# for name, param in model.named_parameters():\n",
    "#     param.data = t.randn_like(param.data) * 0.01"
   ]
  },
  {
   "cell_type": "code",
   "execution_count": 4,
   "metadata": {},
   "outputs": [],
   "source": [
    "activations_dict: dict[str, TT | tuple] = {}\n",
    "\n",
    "\n",
    "@typed\n",
    "def activation_saver(\n",
    "    name: str, _module: nn.Module, _input: TT | tuple, output: TT | tuple\n",
    ") -> None:\n",
    "    activations_dict[name] = output\n",
    "\n",
    "\n",
    "@typed\n",
    "def ls(a) -> str:\n",
    "    if isinstance(a, TT) and a.shape == ():\n",
    "        return ls(a.item())\n",
    "    if isinstance(a, float):\n",
    "        return f\"{a:.2f}\"\n",
    "    if isinstance(a, int) or isinstance(a, bool):\n",
    "        return str(int(a))\n",
    "    if not hasattr(a, \"__len__\"):\n",
    "        return str(a)\n",
    "    brackets = \"()\" if isinstance(a, tuple) else \"[]\"\n",
    "    children = [ls(x) for x in a]\n",
    "    if any(\"(\" in x or \"[\" in x for x in children):\n",
    "        delim = \"\\n\"\n",
    "    else:\n",
    "        delim = \" \"\n",
    "    return delim.join([brackets[0]] + children + [brackets[1]])\n",
    "\n",
    "\n",
    "class Hooks:\n",
    "    @typed\n",
    "    def __init__(\n",
    "        self,\n",
    "        module: nn.Module,\n",
    "        hook: Callable[[str, nn.Module, TT, TT], TT],\n",
    "    ) -> None:\n",
    "        from functools import partial\n",
    "\n",
    "        self.handles = []\n",
    "        self.module = module\n",
    "        for name, submodule in module.named_modules():\n",
    "            if \".\" in name:\n",
    "                self.handles.append(\n",
    "                    submodule.register_forward_hook(partial(hook, name))\n",
    "                )\n",
    "\n",
    "    @typed\n",
    "    def __enter__(self) -> None:\n",
    "        pass\n",
    "\n",
    "    @typed\n",
    "    def __exit__(self, *_) -> None:\n",
    "        for handle in self.handles:\n",
    "            handle.remove()"
   ]
  },
  {
   "cell_type": "markdown",
   "metadata": {},
   "source": [
    "## Prompts\n",
    "The idea is to collect activations of the model on a diverse set of prompts and then build dataset with shape `[n_prompts, seq_len, d_total]`."
   ]
  },
  {
   "cell_type": "code",
   "execution_count": 42,
   "metadata": {},
   "outputs": [],
   "source": [
    "from utils import seed_everything\n",
    "from itertools import islice\n",
    "\n",
    "dataset = load_dataset(\"Mlxa/nested\", split=\"train\", streaming=True)\n",
    "prompts = []\n",
    "for sample in islice(dataset, 16):\n",
    "    prompts.append(sample[\"text\"])\n",
    "\n",
    "test_prompts = []\n",
    "for sample in islice(dataset, 16, 32):\n",
    "    test_prompts.append(sample[\"text\"])\n",
    "\n",
    "for sample in test_prompts:\n",
    "    assert sample not in prompts"
   ]
  },
  {
   "cell_type": "code",
   "execution_count": 83,
   "metadata": {},
   "outputs": [
    {
     "name": "stdout",
     "output_type": "stream",
     "text": [
      "torch.Size([16, 512, 2804])\n",
      "{'wte': (0, 256), 'layer_0': (256, 512), 'layer_1': (512, 768), 'layer_2': (768, 1024), 'layer_3': (1024, 1280), 'layer_4': (1280, 1536), 'layer_5': (1536, 1792), 'layer_6': (1792, 2048), 'layer_7': (2048, 2304), 'logprobs': (2304, 2804)}\n"
     ]
    }
   ],
   "source": [
    "from utils import get_logprobs\n",
    "\n",
    "\n",
    "@typed\n",
    "def get_activations_for_single_prompt(\n",
    "    model: nn.Module, tokenizer, prompt: str\n",
    ") -> Float[TT, \"seq_len d_total\"]:\n",
    "    global activations_dict\n",
    "    activations_dict = {}\n",
    "    with Hooks(model, activation_saver):\n",
    "        model(**tokenizer(prompt, return_tensors=\"pt\"))\n",
    "    results = []\n",
    "    activation = activations_dict[f\"transformer.wte\"].squeeze().detach()\n",
    "    results.append(activation)\n",
    "    # last = activation\n",
    "    for layer in range(8):\n",
    "        activation = activations_dict[f\"transformer.h.{layer}\"][0].squeeze().detach()\n",
    "        results.append(activation)\n",
    "        # last = activation\n",
    "    logprobs = get_logprobs(model, tokenizer, prompt)[:, :500]\n",
    "    results.append(logprobs.detach())\n",
    "    return t.cat(results, dim=-1)\n",
    "\n",
    "\n",
    "@typed\n",
    "def get_activations_for_prompts(\n",
    "    model: nn.Module, tokenizer, prompts: list[str]\n",
    ") -> Float[TT, \"n_prompts seq_len d_total\"]:\n",
    "    results = []\n",
    "    for prompt in prompts:\n",
    "        results.append(get_activations_for_single_prompt(model, tokenizer, prompt))\n",
    "    return t.stack(results)\n",
    "\n",
    "\n",
    "model_activations = get_activations_for_prompts(model, tokenizer, prompts)\n",
    "print(model_activations.shape)\n",
    "assert model_activations.shape[-1] == 9 * 256 + 500\n",
    "\n",
    "d_model = 256\n",
    "\n",
    "activations_map = {\n",
    "    \"wte\": (0, d_model),\n",
    "    \"layer_0\": (1 * d_model, 2 * d_model),\n",
    "    \"layer_1\": (2 * d_model, 3 * d_model),\n",
    "    \"layer_2\": (3 * d_model, 4 * d_model),\n",
    "    \"layer_3\": (4 * d_model, 5 * d_model),\n",
    "    \"layer_4\": (5 * d_model, 6 * d_model),\n",
    "    \"layer_5\": (6 * d_model, 7 * d_model),\n",
    "    \"layer_6\": (7 * d_model, 8 * d_model),\n",
    "    \"layer_7\": (8 * d_model, 9 * d_model),\n",
    "    \"logprobs\": (9 * d_model, 9 * d_model + 500),\n",
    "}\n",
    "print(activations_map)"
   ]
  },
  {
   "cell_type": "markdown",
   "metadata": {},
   "source": [
    "## Algorithm\n",
    "Now we need a theoretical model of what is happening inside, as a function from some parameters to the dataset of targets with the shape `n_prompts seq_len n_targets`."
   ]
  },
  {
   "cell_type": "code",
   "execution_count": 92,
   "metadata": {},
   "outputs": [],
   "source": [
    "seed_everything(42)\n",
    "\n",
    "n_types = 250\n",
    "random_basis = t.randn((n_types, d_model))\n",
    "random_basis /= random_basis.norm(dim=1, keepdim=True)\n",
    "orthogonal_basis = t.zeros((n_types, d_model))\n",
    "for i in range(n_types):\n",
    "    orthogonal_basis[i, i] = 1\n",
    "\n",
    "\n",
    "@typed\n",
    "def run_algorithm(\n",
    "    prompt: str,\n",
    "    alpha_orth: Float[TT, \"\"],\n",
    "    norms: Float[TT, \"n_types\"],\n",
    "    depth_weights: Float[TT, \"max_depth\"],\n",
    ") -> Float[TT, \"seq_len n_targets\"]:\n",
    "    basis: Float[TT, \"n_types d_model\"] = (\n",
    "        alpha_orth * orthogonal_basis + (1 - alpha_orth) * random_basis\n",
    "    )\n",
    "    basis *= norms.reshape(-1, 1)\n",
    "\n",
    "    input_ids = tokenizer(prompt, return_tensors=\"pt\")[\"input_ids\"].squeeze()\n",
    "    assert_type(input_ids, Int[TT, \"seq\"])\n",
    "    is_open = (input_ids % 2 == 0).int()\n",
    "    assert_type(is_open, Int[TT, \"seq\"])\n",
    "    elevation = t.cumsum(2 * is_open - 1, dim=0) - is_open\n",
    "    assert_type(elevation, Int[TT, \"seq\"])\n",
    "    max_depth = t.tensor(depth_weights.shape[0] - 1)\n",
    "    weight = depth_weights[t.minimum(elevation, max_depth)]\n",
    "    assert_type(weight, Float[TT, \"seq\"])\n",
    "    signed_weight = (2 * is_open - 1) * weight\n",
    "    assert_type(signed_weight, Float[TT, \"seq\"])\n",
    "    type_embeddings = basis[input_ids // 2]\n",
    "    assert_type(type_embeddings, Float[TT, \"seq d_model\"])\n",
    "    weighted_embeddings = signed_weight.unsqueeze(-1) * type_embeddings\n",
    "    assert_type(weighted_embeddings, Float[TT, \"seq d_model\"])\n",
    "    prefix_sums = t.cumsum(weighted_embeddings, dim=0)\n",
    "    assert_type(prefix_sums, Float[TT, \"seq d_model\"])\n",
    "    # normalize by sum of weights here?\n",
    "    logits = prefix_sums @ basis.T\n",
    "    assert_type(logits, Float[TT, \"seq n_types\"])\n",
    "    logprobs = F.log_softmax(logits, dim=-1)\n",
    "    assert_type(logprobs, Float[TT, \"seq n_types\"])\n",
    "\n",
    "    targets = {\n",
    "        \"is_open\": is_open.float().unsqueeze(-1),\n",
    "        \"elevation\": elevation.float().unsqueeze(-1),\n",
    "        \"weight\": weight.unsqueeze(-1),\n",
    "        \"signed_weight\": signed_weight.unsqueeze(-1),\n",
    "        \"type_embeddings\": type_embeddings,\n",
    "        \"weighted_embeddings\": weighted_embeddings,\n",
    "        \"prefix_sums\": prefix_sums,\n",
    "        \"logits\": logits,\n",
    "        \"logprobs\": logprobs,\n",
    "    }\n",
    "    return targets[\"signed_weight\"]\n",
    "\n",
    "\n",
    "@typed\n",
    "def run_algorithm_for_prompts(\n",
    "    prompts: list[str],\n",
    "    alpha_orth: Float[TT, \"\"],\n",
    "    norms: Float[TT, \"n_types\"],\n",
    "    depth_weights: Float[TT, \"max_depth\"],\n",
    ") -> Float[TT, \"n_prompts seq_len n_targets\"]:\n",
    "    results = []\n",
    "    for prompt in prompts:\n",
    "        results.append(run_algorithm(prompt, alpha_orth, norms, depth_weights))\n",
    "    return t.stack(results)"
   ]
  },
  {
   "cell_type": "code",
   "execution_count": 93,
   "metadata": {},
   "outputs": [
    {
     "name": "stdout",
     "output_type": "stream",
     "text": [
      "torch.Size([16, 512, 1])\n"
     ]
    }
   ],
   "source": [
    "alpha_orth = t.tensor(0.0)\n",
    "norms = t.ones((n_types,))\n",
    "max_depth = 16\n",
    "depth_weights = t.arange(max_depth) - 0.5\n",
    "\n",
    "targets = run_algorithm_for_prompts(prompts, alpha_orth, norms, depth_weights)\n",
    "print(targets.shape)"
   ]
  },
  {
   "cell_type": "code",
   "execution_count": 94,
   "metadata": {},
   "outputs": [],
   "source": [
    "@typed\n",
    "def build_datasets(\n",
    "    model_part: str,\n",
    ") -> tuple[Float[TT, \"n_points d_X\"], Float[TT, \"n_points d_Y\"]]:\n",
    "    l, r = activations_map[model_part]\n",
    "    X = ein.rearrange(\n",
    "        model_activations.clone(),\n",
    "        \"n_prompts seq_len d_total -> (n_prompts seq_len) d_total\",\n",
    "    )[:, l:r]\n",
    "    Y = ein.rearrange(\n",
    "        targets.clone(), \"n_prompts seq_len n_targets -> (n_prompts seq_len) n_targets\"\n",
    "    )\n",
    "\n",
    "    # X = X / X.std()\n",
    "    # Y = Y / Y.std()\n",
    "\n",
    "    return X, Y"
   ]
  },
  {
   "cell_type": "code",
   "execution_count": 95,
   "metadata": {},
   "outputs": [
    {
     "name": "stdout",
     "output_type": "stream",
     "text": [
      "wte 0.0\n",
      "layer_0 0.5576375333347059\n",
      "layer_1 0.7033292014233217\n",
      "layer_2 0.6775791546832405\n",
      "layer_3 0.6746112732180143\n",
      "layer_4 0.6823233495711842\n",
      "layer_5 0.7016951455328893\n",
      "layer_6 0.6907344741280581\n",
      "layer_7 0.43552979107118284\n",
      "logprobs 0.07265361466569364\n"
     ]
    }
   ],
   "source": [
    "from sklearn.linear_model import Ridge, Lasso\n",
    "\n",
    "results = {}\n",
    "for part in activations_map:\n",
    "    X, Y = build_datasets(part)\n",
    "    solver = Ridge(alpha=0.001).fit(X, Y)\n",
    "    r2 = solver.score(X, Y)\n",
    "    results[part] = r2\n",
    "    print(part, r2)\n"
   ]
  },
  {
   "cell_type": "code",
   "execution_count": 96,
   "metadata": {},
   "outputs": [
    {
     "name": "stdout",
     "output_type": "stream",
     "text": [
      "0.7033292014233217\n"
     ]
    }
   ],
   "source": [
    "X, Y = build_datasets(\"layer_1\")\n",
    "solver = Ridge(alpha=0.001).fit(X, Y)\n",
    "print(solver.score(X, Y))\n",
    "\n",
    "prompt = test_prompts[0]\n",
    "activations_dict = {}\n",
    "with Hooks(model, activation_saver):\n",
    "    model(**tokenizer(prompt, return_tensors=\"pt\"))\n",
    "act6 = activations_dict[\"transformer.h.1\"][0].squeeze().detach()\n",
    "act5 = activations_dict[\"transformer.h.0\"][0].squeeze().detach()\n",
    "activations = act6 - act5"
   ]
  },
  {
   "cell_type": "code",
   "execution_count": 97,
   "metadata": {},
   "outputs": [
    {
     "data": {
      "image/png": "[encoded data removed]",
      "text/plain": [
       "<Figure size 1000x1000 with 1 Axes>"
      ]
     },
     "metadata": {},
     "output_type": "display_data"
    },
    {
     "name": "stdout",
     "output_type": "stream",
     "text": [
      "-31.830073376855914\n"
     ]
    }
   ],
   "source": [
    "pref = 20\n",
    "x = activations\n",
    "assert_type(x, Float[TT, \"seq_len d_model\"])\n",
    "p = t.tensor(solver.predict(x))\n",
    "assert_type(p, Float[TT, \"seq_len 1\"])\n",
    "y = run_algorithm(prompt, alpha_orth, norms, depth_weights)\n",
    "plt.figure(figsize=(10, 10))\n",
    "plt.scatter(y, p, alpha=0.2)\n",
    "plt.show()\n",
    "print(solver.score(x, y))"
   ]
  }
 ],
 "metadata": {
  "kernelspec": {
   "display_name": "Python 3",
   "language": "python",
   "name": "python3"
  },
  "language_info": {
   "codemirror_mode": {
    "name": "ipython",
    "version": 3
   },
   "file_extension": ".py",
   "mimetype": "text/x-python",
   "name": "python",
   "nbconvert_exporter": "python",
   "pygments_lexer": "ipython3",
   "version": "3.10.12"
  }
 },
 "nbformat": 4,
 "nbformat_minor": 2
}
