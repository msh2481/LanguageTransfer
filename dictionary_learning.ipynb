{
 "cells": [
  {
   "cell_type": "code",
   "execution_count": 2,
   "metadata": {},
   "outputs": [],
   "source": [
    "import matplotlib.pyplot as plt\n",
    "import numpy as np\n",
    "import torch as t\n",
    "import torch.nn as nn\n",
    "import torch.nn.functional as F\n",
    "from beartype import beartype as typed\n",
    "from beartype.door import die_if_unbearable as assert_type\n",
    "from datasets import load_dataset\n",
    "from jaxtyping import Float, Int, Bool\n",
    "from typing import Callable\n",
    "from torch import Tensor as TT\n",
    "from transformers import AutoModelForCausalLM, AutoTokenizer\n",
    "from einops import einops as ein\n",
    "\n",
    "%load_ext autoreload\n",
    "%autoreload 2"
   ]
  },
  {
   "cell_type": "code",
   "execution_count": null,
   "metadata": {},
   "outputs": [],
   "source": [
    "seed_everything(42)\n",
    "\n",
    "\n",
    "n_samples = 10**4\n",
    "dict_dim = 100\n",
    "\n",
    "gt: Int[TT, \"n_samples hidden_dim\"] = t.bernoulli(t.full((n_samples, hidden_dim), 0.1))\n",
    "obs: Float[TT, \"n_samples input_dim\"] = gt @ emb\n",
    "\n",
    "\n",
    "# sae = SparseAutoEncoder(input_dim, dict_dim)\n",
    "dist = t.zeros((hidden_dim, dict_dim))\n",
    "\n",
    "for it in range(10):\n",
    "    fit_sae(sae, obs, hidden_dim, lr=0.01, l1=0.2, epochs=20, noise_std=0.0)\n",
    "    guess = sae.encode(obs)\n",
    "\n",
    "    for true_feature in range(hidden_dim):\n",
    "        for dict_feature in range(dict_dim):\n",
    "            y = gt[:, true_feature].float()\n",
    "            p = guess[:, dict_feature].detach()\n",
    "            dist[true_feature, dict_feature] = F.cosine_similarity(p, y, dim=-1)\n",
    "\n",
    "    plt.figure(figsize=(4, 4))\n",
    "    plt.imshow(dist)\n",
    "    plt.show()\n",
    "    best = dist.max(dim=1).values\n",
    "    print(ls(best.mean()), ls(best))"
   ]
  },
  {
   "cell_type": "code",
   "execution_count": null,
   "metadata": {},
   "outputs": [],
   "source": [
    "from utils import ls, sh\n",
    "from sklearn.linear_model import LinearRegression\n",
    "from sklearn.metrics import r2_score\n",
    "\n",
    "\n",
    "for i in range(30):\n",
    "    if gt[i].sum() == 0:\n",
    "        continue\n",
    "    print(\"mse\", F.mse_loss(obs[i], sae(obs[i])[0]).mul(32).round().div(32).item())\n",
    "    print(ls(gt[i]))\n",
    "    print(ls(guess[i]))\n",
    "    print(ls(y))\n",
    "    print()"
   ]
  }
 ],
 "metadata": {
  "kernelspec": {
   "display_name": "Python 3",
   "language": "python",
   "name": "python3"
  },
  "language_info": {
   "codemirror_mode": {
    "name": "ipython",
    "version": 3
   },
   "file_extension": ".py",
   "mimetype": "text/x-python",
   "name": "python",
   "nbconvert_exporter": "python",
   "pygments_lexer": "ipython3",
   "version": "3.10.12"
  }
 },
 "nbformat": 4,
 "nbformat_minor": 2
}
